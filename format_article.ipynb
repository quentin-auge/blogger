{
 "cells": [
  {
   "cell_type": "code",
   "execution_count": 1,
   "metadata": {},
   "outputs": [],
   "source": [
    "with open('data/sampled.txt') as f:\n",
    "    text = f.read()"
   ]
  },
  {
   "cell_type": "code",
   "execution_count": 2,
   "metadata": {},
   "outputs": [
    {
     "data": {
      "text/plain": [
       "'je suis fatigué du stop qui ne marche pas , et je dois marcher pour la nuit . de toute façon , je vais en profiter pour faire un petit tour de terrain de foot très haut , mais vu que le paysage est en train de dormir dans le désert . je sais bien que le terrain est à peine pour sortir de la paz , mais je suis dans le vent . la douleur se termine plutôt . je suis un peu trop faible pour que ça soit normal , et je me fais embarquer en chemin par'"
      ]
     },
     "execution_count": 2,
     "metadata": {},
     "output_type": "execute_result"
    }
   ],
   "source": [
    "' '.join(text.split()[:100])"
   ]
  },
  {
   "cell_type": "code",
   "execution_count": 3,
   "metadata": {},
   "outputs": [],
   "source": [
    "# Handle punctuation\n",
    "text = text.replace(' ,', ',')\n",
    "text = text.replace(' :', ':')"
   ]
  },
  {
   "cell_type": "code",
   "execution_count": 4,
   "metadata": {},
   "outputs": [],
   "source": [
    "# Capitalize letters after '.'\n",
    "text = '. '.join(s.strip().capitalize() for s in text.split('.'))"
   ]
  },
  {
   "cell_type": "code",
   "execution_count": 5,
   "metadata": {},
   "outputs": [],
   "source": [
    "# Make sure text ends with a '.'\n",
    "last_full_stop_idx = text.rfind('.')\n",
    "text = text[:last_full_stop_idx + 1]"
   ]
  },
  {
   "cell_type": "code",
   "execution_count": 6,
   "metadata": {},
   "outputs": [
    {
     "data": {
      "text/plain": [
       "'Je suis fatigué du stop qui ne marche pas, et je dois marcher pour la nuit. De toute façon, je vais en profiter pour faire un petit tour de terrain de foot très haut, mais vu que le paysage est en train de dormir dans le désert. Je sais bien que le terrain est à peine pour sortir de la paz, mais je suis dans le vent. La douleur se termine plutôt. Je suis un peu trop faible pour que ça soit normal, et je me fais embarquer en chemin par un groupe de français qui y va en pente.'"
      ]
     },
     "execution_count": 6,
     "metadata": {},
     "output_type": "execute_result"
    }
   ],
   "source": [
    "' '.join(text.split()[:100])"
   ]
  },
  {
   "cell_type": "code",
   "execution_count": 7,
   "metadata": {},
   "outputs": [
    {
     "data": {
      "text/plain": [
       "'des touristes. Et puis, une fois le soleil, une voiture passe, et un camion pour sortir du port qui indique être pris par un camion - van qui commence à devenir aride ( un type à 10 heures de marche ), et je dois marcher. Pas de route, mais ce qui est plus en train de faire des rencontres similaires. La pluie est toujours trop vide, et je suis de plus en plus sec. Et puis, une fois le soleil, une voiture passe, et leur explique mon projet de dormir dehors. Après un temps de réflexion, la route est vide.'"
      ]
     },
     "execution_count": 7,
     "metadata": {},
     "output_type": "execute_result"
    }
   ],
   "source": [
    "' '.join(text.split()[-100:])"
   ]
  },
  {
   "cell_type": "code",
   "execution_count": 8,
   "metadata": {
    "scrolled": false
   },
   "outputs": [],
   "source": [
    "# Split into paragraphs\n",
    "N_SENTENCES = 20\n",
    "sentences = [s.strip() for s in text.split('.')]\n",
    "text = '\\n\\n'.join('. '.join(sentences[i:i + N_SENTENCES]) + '.' for i in range(0, len(sentences), N_SENTENCES))\n",
    "text = text.replace('. .', '.')"
   ]
  },
  {
   "cell_type": "code",
   "execution_count": 9,
   "metadata": {},
   "outputs": [
    {
     "name": "stdout",
     "output_type": "stream",
     "text": [
      "Je suis fatigué du stop qui ne marche pas, et je dois marcher pour la nuit. De toute façon, je vais en profiter pour faire un petit tour de terrain de foot très haut, mais vu que le paysage est en train de dormir dans le désert. Je sais bien que le terrain est à peine pour sortir de la paz, mais je suis dans le vent. La douleur se termine plutôt. Je suis un peu trop faible pour que ça soit normal, et je me fais embarquer en chemin par un groupe de français qui y va en pente. Je ne peux pas dire que sa mort me touche pas, après avoir lu tant de ses amis. Elle est désormais dans le pays, mais pourtant, ça sera à la douane. Bon, maintenant, les choses ne se termine jamais comme prévu, et à un moment, il est possible que les moustiques sont très sympathiques. Ils sont en train de faire du stop tout juste la douane pour ne plus faire par la fenêtre. En fait, elle ne se termine pas, et je les fais à un moment, et je demande au bout de 500 mètres. Je ne compte que trois de leurs enfants sur cinq. Ils sont déjà sur le chemin. Deux heures plus tard, je parcours 50 kilomètres de bas en pente, en me demandant qui va venir me faire payer 50 mètres en direction de la paz. Il y a une station essence et je demande que ça ne va pas être possible. Puis son mari se vide et je leur dit de me laisser là. Et puis, si ils me disent que je ne peux pas dormir, mais tout comme le bus, il me répond. Il me faut un panneau. Après une heure et une heure et une heure et une heure et une heure et un camion à 50 km / h en me faisant des signes de la main, je me fais embarquer par un camion pour 120 km ). Vu que je suis en train de faire des informations sur internet, je me fais embarquer par un bus pour un village avec un vieux monsieur à qui je demande si il a eu le sens de cette tente au moment de passer en stop. Il me faut un panneau.\n",
      "\n",
      "Après une intense de réflexion pendant laquelle il me reste de la ville, je suis toujours en mesure de me rendre dans la jungle ( sud - est ), ni sur la côte pac\n"
     ]
    }
   ],
   "source": [
    "print(text[:2000])"
   ]
  },
  {
   "cell_type": "code",
   "execution_count": 10,
   "metadata": {},
   "outputs": [
    {
     "name": "stdout",
     "output_type": "stream",
     "text": [
      "e, et je me fais embarquer par un bus. D' ailleurs, il est temps de faire sécher les vêtements et les vêtements dans les jambes. Je remercie mes conducteurs qui en passent. Je ne comprends pas trop où sont passés les artistes de rue argentins si présents à bord. Il y a bien un moment où il faut retourner à la maison, et vu que je suis malade. Je me fais embarquer par 2 taxis de suite ( même si ça peut fait 3 jours, il est temps de mettre un peu de temps pour traverser de la colombie. Et, pour les deux raisons que voici, ce ne sont pas des vacances, merci. Le lendemain, je retrouve mes affaires sur la route, et je vais voir le conducteur du bus. Le conducteur me demande de venir voir si je fais un signe de tour. Il peut se rendre finalement, vu que je ne suis pas un problème de route. Je le remercie, et je lui demande si il a une idée d' où je cherche un endroit pour planter la tente. D' ailleurs il fait nuit et il va falloir y penser, mais ma bouteille d' eau est vide et je suis de nouveau en dehors. Quitter la route de la paz, et je prends la direction de nul part. Je me fais embarquer par 2 taxis de suite ( même si ça peut prendre 3 jours de marche ), et en profite pour aller visiter le site de   ( non   merci ), non sans avoir pris la peine de laisser en cadeau à mon sac en que je suis arrivé à la maison. Non. Je sais bien que le type à la sortie ne peut pas être très loin, étant donné que le salaire est de 30 °c pour une nuit, mais à un moment, on est quand même des touristes. Et puis, une fois le soleil, une voiture passe, et un camion pour sortir du port qui indique être pris par un camion - van qui commence à devenir aride ( un type à 10 heures de marche ), et je dois marcher. Pas de route, mais ce qui est plus en train de faire des rencontres similaires.\n",
      "\n",
      "La pluie est toujours trop vide, et je suis de plus en plus sec. Et puis, une fois le soleil, une voiture passe, et leur explique mon projet de dormir dehors. Après un temps de réflexion, la route est vide.\n"
     ]
    }
   ],
   "source": [
    "print(text[-2000:])"
   ]
  },
  {
   "cell_type": "code",
   "execution_count": 11,
   "metadata": {},
   "outputs": [
    {
     "name": "stdout",
     "output_type": "stream",
     "text": [
      "e, et je me fais embarquer par un bus. D' ailleurs, il est temps de faire sécher les vêtements et les vêtements dans les jambes. Je remercie mes conducteurs qui en passent. Je ne comprends pas trop où sont passés les artistes de rue argentins si présents à bord. Il y a bien un moment où il faut retourner à la maison, et vu que je suis malade. Je me fais embarquer par 2 taxis de suite ( même si ça peut fait 3 jours, il est temps de mettre un peu de temps pour traverser de la colombie. Et, pour les deux raisons que voici, ce ne sont pas des vacances, merci. Le lendemain, je retrouve mes affaires sur la route, et je vais voir le conducteur du bus. Le conducteur me demande de venir voir si je fais un signe de tour. Il peut se rendre finalement, vu que je ne suis pas un problème de route. Je le remercie, et je lui demande si il a une idée d' où je cherche un endroit pour planter la tente. D' ailleurs il fait nuit et il va falloir y penser, mais ma bouteille d' eau est vide et je suis de nouveau en dehors. Quitter la route de la paz, et je prends la direction de nul part. Je me fais embarquer par 2 taxis de suite ( même si ça peut prendre 3 jours de marche ), et en profite pour aller visiter le site de   ( non   merci ), non sans avoir pris la peine de laisser en cadeau à mon sac en que je suis arrivé à la maison. Non. Je sais bien que le type à la sortie ne peut pas être très loin, étant donné que le salaire est de 30 °c pour une nuit, mais à un moment, on est quand même des touristes. Et puis, une fois le soleil, une voiture passe, et un camion pour sortir du port qui indique être pris par un camion - van qui commence à devenir aride ( un type à 10 heures de marche ), et je dois marcher. Pas de route, mais ce qui est plus en train de faire des rencontres similaires.\n",
      "\n",
      "La pluie est toujours trop vide, et je suis de plus en plus sec. Et puis, une fois le soleil, une voiture passe, et leur explique mon projet de dormir dehors. Après un temps de réflexion, la route est vide.\n"
     ]
    }
   ],
   "source": [
    "print(text[-2000:])"
   ]
  },
  {
   "cell_type": "code",
   "execution_count": null,
   "metadata": {},
   "outputs": [],
   "source": []
  },
  {
   "cell_type": "code",
   "execution_count": 12,
   "metadata": {},
   "outputs": [],
   "source": [
    "with open('data/sampled_article.txt', 'w') as f:\n",
    "    f.write(text)"
   ]
  },
  {
   "cell_type": "code",
   "execution_count": null,
   "metadata": {},
   "outputs": [],
   "source": []
  }
 ],
 "metadata": {
  "kernelspec": {
   "display_name": "Python 3",
   "language": "python",
   "name": "python3"
  },
  "language_info": {
   "codemirror_mode": {
    "name": "ipython",
    "version": 3
   },
   "file_extension": ".py",
   "mimetype": "text/x-python",
   "name": "python",
   "nbconvert_exporter": "python",
   "pygments_lexer": "ipython3",
   "version": "3.6.7"
  }
 },
 "nbformat": 4,
 "nbformat_minor": 2
}
