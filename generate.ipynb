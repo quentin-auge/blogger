{
 "cells": [
  {
   "cell_type": "code",
   "execution_count": 3,
   "metadata": {},
   "outputs": [],
   "source": [
    "%reload_ext autoreload\n",
    "%autoreload 2\n",
    "%matplotlib inline\n",
    "\n",
    "from fastai.model import fit\n",
    "from fastai.dataset import *\n",
    "\n",
    "import torchtext\n",
    "from torchtext import vocab, data\n",
    "from torchtext.datasets import language_modeling\n",
    "\n",
    "from fastai.rnn_reg import *\n",
    "from fastai.rnn_train import *\n",
    "from fastai.nlp import *\n",
    "from fastai.lm_rnn import *\n",
    "\n",
    "import dill as pickle\n",
    "import random"
   ]
  },
  {
   "cell_type": "code",
   "execution_count": null,
   "metadata": {},
   "outputs": [],
   "source": []
  },
  {
   "cell_type": "code",
   "execution_count": null,
   "metadata": {},
   "outputs": [],
   "source": []
  },
  {
   "cell_type": "code",
   "execution_count": null,
   "metadata": {},
   "outputs": [],
   "source": []
  },
  {
   "cell_type": "code",
   "execution_count": null,
   "metadata": {},
   "outputs": [],
   "source": []
  },
  {
   "cell_type": "markdown",
   "metadata": {},
   "source": [
    "# Fit language model on Wordpress"
   ]
  },
  {
   "cell_type": "code",
   "execution_count": 4,
   "metadata": {},
   "outputs": [],
   "source": [
    "bs, bptt = 64, 70"
   ]
  },
  {
   "cell_type": "code",
   "execution_count": 3,
   "metadata": {},
   "outputs": [],
   "source": [
    "#python -m spacy download fr\n",
    "my_tok = spacy.load('fr')\n",
    "\n",
    "def my_spacy_tok(x):\n",
    "    return [tok.text for tok in my_tok.tokenizer(x)]"
   ]
  },
  {
   "cell_type": "code",
   "execution_count": 4,
   "metadata": {},
   "outputs": [],
   "source": [
    "PATH = 'data/txt/wordpress'\n",
    "TEXT = data.Field(lower=True, tokenize=my_spacy_tok)\n",
    "md = LanguageModelData.from_text_files(PATH, TEXT, train='.', validation='.', test='.',\n",
    "                                       bs=bs, bptt=bptt, min_freq=10)"
   ]
  },
  {
   "cell_type": "code",
   "execution_count": 5,
   "metadata": {},
   "outputs": [
    {
     "data": {
      "text/plain": [
       "(123, 4002, 1, 558973)"
      ]
     },
     "execution_count": 5,
     "metadata": {},
     "output_type": "execute_result"
    }
   ],
   "source": [
    "len(md.trn_dl), md.nt, len(md.trn_ds), len(md.trn_ds[0].text)"
   ]
  },
  {
   "cell_type": "code",
   "execution_count": 6,
   "metadata": {},
   "outputs": [],
   "source": [
    "em_sz = 200\n",
    "nh = 500\n",
    "nl = 3\n",
    "opt_fn = partial(optim.Adam, betas=(0.7, 0.99))"
   ]
  },
  {
   "cell_type": "code",
   "execution_count": 7,
   "metadata": {},
   "outputs": [],
   "source": [
    "learner = md.get_model(opt_fn, em_sz, nh, nl,\n",
    "    dropout=0.05, dropouth=0.1, dropouti=0.05, dropoute=0.02, wdrop=0.2)\n",
    "# dropout=0.4, dropouth=0.3, dropouti=0.65, dropoute=0.1, wdrop=0.5\n",
    "#                dropouti=0.05, dropout=0.05, wdrop=0.1, dropoute=0.02, dropouth=0.05)\n",
    "learner.reg_fn = partial(seq2seq_reg, alpha=2, beta=1)\n",
    "learner.clip=0.3"
   ]
  },
  {
   "cell_type": "code",
   "execution_count": 8,
   "metadata": {},
   "outputs": [],
   "source": [
    "warnings.filterwarnings('ignore',category=UserWarning)"
   ]
  },
  {
   "cell_type": "code",
   "execution_count": 9,
   "metadata": {},
   "outputs": [
    {
     "data": {
      "application/vnd.jupyter.widget-view+json": {
       "model_id": "6c2b278455754564a4cb3115282eb653",
       "version_major": 2,
       "version_minor": 0
      },
      "text/plain": [
       "HBox(children=(IntProgress(value=0, description='Epoch', max=1), HTML(value='')))"
      ]
     },
     "metadata": {},
     "output_type": "display_data"
    },
    {
     "name": "stdout",
     "output_type": "stream",
     "text": [
      "epoch      trn_loss   val_loss   \n",
      "    0      5.41836    5.1515    \n",
      "\n"
     ]
    }
   ],
   "source": [
    "learner.fit(3e-3, 1, wds=1e-6)\n",
    "learner.save_encoder('wordpress_1')"
   ]
  },
  {
   "cell_type": "code",
   "execution_count": 10,
   "metadata": {},
   "outputs": [
    {
     "data": {
      "application/vnd.jupyter.widget-view+json": {
       "model_id": "4773d29cfcd94b68b5d7144a0af2798c",
       "version_major": 2,
       "version_minor": 0
      },
      "text/plain": [
       "HBox(children=(IntProgress(value=0, description='Epoch', max=15), HTML(value='')))"
      ]
     },
     "metadata": {},
     "output_type": "display_data"
    },
    {
     "name": "stdout",
     "output_type": "stream",
     "text": [
      "epoch      trn_loss   val_loss   \n",
      "    0      4.964747   4.861962  \n",
      "    1      4.710859   4.511409  \n",
      "    2      4.499228   4.398448  \n",
      "    3      4.389906   4.205618  \n",
      "    4      4.214793   4.045292  \n",
      "    5      4.100974   3.948904  \n",
      "    6      4.032428   3.925189  \n",
      "    7      4.065681   3.863705  \n",
      "    8      3.962731   3.748533  \n",
      "    9      3.858471   3.633356  \n",
      "    10     3.764991   3.536353  \n",
      "    11     3.685439   3.447273  \n",
      "    12     3.616239   3.393011  \n",
      "    13     3.578113   3.365949  \n",
      "    14     3.576423   3.36475   \n",
      "\n"
     ]
    }
   ],
   "source": [
    "learner.fit(3e-3, 4, wds=1e-6, cycle_len=1, cycle_mult=2)\n",
    "learner.save_encoder('wordpress_2')"
   ]
  },
  {
   "cell_type": "code",
   "execution_count": 11,
   "metadata": {},
   "outputs": [
    {
     "data": {
      "application/vnd.jupyter.widget-view+json": {
       "model_id": "a5166e7217654a529c6a0665282f89a0",
       "version_major": 2,
       "version_minor": 0
      },
      "text/plain": [
       "HBox(children=(IntProgress(value=0, description='Epoch', max=10), HTML(value='')))"
      ]
     },
     "metadata": {},
     "output_type": "display_data"
    },
    {
     "name": "stdout",
     "output_type": "stream",
     "text": [
      "epoch      trn_loss   val_loss   \n",
      "    0      3.621457   3.424829  \n",
      "    1      3.614206   3.343866  \n",
      "    2      3.550171   3.273521  \n",
      "    3      3.47219    3.167678  \n",
      "    4      3.415134   3.09017   \n",
      "    5      3.342923   3.012518  \n",
      "    6      3.283233   2.959568  \n",
      "    7      3.243617   2.922631  \n",
      "    8      3.208909   2.923379  \n",
      "    9      3.20387    2.886638  \n",
      "\n"
     ]
    }
   ],
   "source": [
    "learner.fit(3e-3, 1, wds=1e-6, cycle_len=10)\n",
    "learner.save_encoder('wordpress_3')"
   ]
  },
  {
   "cell_type": "code",
   "execution_count": 12,
   "metadata": {},
   "outputs": [
    {
     "data": {
      "application/vnd.jupyter.widget-view+json": {
       "model_id": "66c072de54084361a2a83760580900db",
       "version_major": 2,
       "version_minor": 0
      },
      "text/plain": [
       "HBox(children=(IntProgress(value=0, description='Epoch', max=15), HTML(value='')))"
      ]
     },
     "metadata": {},
     "output_type": "display_data"
    },
    {
     "name": "stdout",
     "output_type": "stream",
     "text": [
      "epoch      trn_loss   val_loss   \n",
      "    0      3.254793   2.883765  \n",
      "    1      3.270128   2.881448  \n",
      "    2      3.239029   2.847525  \n",
      "    3      3.232687   2.858032  \n",
      "    4      3.206249   2.821148  \n",
      "    5      3.171746   2.772858  \n",
      "    6      3.147078   2.755853  \n",
      "    7      3.194739   2.779003  \n",
      "    8      3.170617   2.7595    \n",
      "    9      3.157458   2.715929  \n",
      "    10     3.121693   2.688937  \n",
      "    11     3.096725   2.668138  \n",
      "    12     3.077755   2.633148  \n",
      "    13     3.077113   2.623319  \n",
      "    14     3.077111   2.6103    \n",
      "\n"
     ]
    }
   ],
   "source": [
    "learner.fit(1e-3, 4, wds=1e-6, cycle_len=1, cycle_mult=2)\n",
    "learner.save_encoder('wordpress_4')"
   ]
  },
  {
   "cell_type": "code",
   "execution_count": 13,
   "metadata": {},
   "outputs": [
    {
     "data": {
      "application/vnd.jupyter.widget-view+json": {
       "model_id": "e660f7ecb43443f4b8832d06c11fb71e",
       "version_major": 2,
       "version_minor": 0
      },
      "text/plain": [
       "HBox(children=(IntProgress(value=0, description='Epoch', max=10), HTML(value='')))"
      ]
     },
     "metadata": {},
     "output_type": "display_data"
    },
    {
     "name": "stdout",
     "output_type": "stream",
     "text": [
      "epoch      trn_loss   val_loss   \n",
      "    0      3.110921   2.705874  \n",
      "    1      3.108543   2.645146  \n",
      "    2      3.063471   2.617466  \n",
      "    3      3.111695   2.619941  \n",
      "    4      3.034176   2.557742  \n",
      "    5      3.015316   2.519851  \n",
      "    6      2.985358   2.496241  \n",
      "    7      2.965874   2.478436  \n",
      "    8      2.943421   2.474756  \n",
      "    9      2.976183   2.489776  \n",
      "\n"
     ]
    }
   ],
   "source": [
    "learner.fit(1e-3, 1, wds=1e-6, cycle_len=10)\n",
    "learner.save_encoder('wordpress_5')"
   ]
  },
  {
   "cell_type": "code",
   "execution_count": null,
   "metadata": {},
   "outputs": [],
   "source": []
  },
  {
   "cell_type": "code",
   "execution_count": null,
   "metadata": {},
   "outputs": [],
   "source": []
  },
  {
   "cell_type": "code",
   "execution_count": null,
   "metadata": {},
   "outputs": [],
   "source": []
  },
  {
   "cell_type": "code",
   "execution_count": 16,
   "metadata": {},
   "outputs": [],
   "source": []
  },
  {
   "cell_type": "code",
   "execution_count": null,
   "metadata": {},
   "outputs": [],
   "source": []
  },
  {
   "cell_type": "code",
   "execution_count": null,
   "metadata": {},
   "outputs": [],
   "source": []
  },
  {
   "cell_type": "markdown",
   "metadata": {},
   "source": [
    "# Show most common predictions"
   ]
  },
  {
   "cell_type": "code",
   "execution_count": 14,
   "metadata": {},
   "outputs": [],
   "source": [
    "learner.load_encoder('wordpress_5')\n",
    "m = learner.model.cpu()"
   ]
  },
  {
   "cell_type": "code",
   "execution_count": 15,
   "metadata": {},
   "outputs": [],
   "source": [
    "def proc_str(s): return TEXT.preprocess(TEXT.tokenize(s))\n",
    "def num_str(s): return TEXT.numericalize([proc_str(s)])"
   ]
  },
  {
   "cell_type": "code",
   "execution_count": 16,
   "metadata": {},
   "outputs": [],
   "source": [
    "s = \"j'aime\"\n",
    "t = num_str(s)"
   ]
  },
  {
   "cell_type": "code",
   "execution_count": 17,
   "metadata": {},
   "outputs": [],
   "source": [
    "# Set batch size to 1\n",
    "m[0].bs=1\n",
    "# Turn off dropout\n",
    "m.eval()\n",
    "# Reset hidden state\n",
    "m.reset()\n",
    "# Get predictions from model\n",
    "res,*_ = m(t)\n",
    "# Put the batch size back to what it was\n",
    "m[0].bs=bs"
   ]
  },
  {
   "cell_type": "code",
   "execution_count": 18,
   "metadata": {},
   "outputs": [
    {
     "data": {
      "text/plain": [
       "['le', 'la', 'les', 'l’', 'se', 'vous', 'voyager', 'faire', 'pouvoir', 'leur']"
      ]
     },
     "execution_count": 18,
     "metadata": {},
     "output_type": "execute_result"
    }
   ],
   "source": [
    "nexts = torch.topk(res[-1], 10)[1]\n",
    "[TEXT.vocab.itos[o] for o in to_np(nexts)]"
   ]
  },
  {
   "cell_type": "code",
   "execution_count": 19,
   "metadata": {},
   "outputs": [
    {
     "data": {
      "text/plain": [
       "['goroka',\n",
       " 'dire',\n",
       " 'lire',\n",
       " 'les',\n",
       " 'suivre',\n",
       " 'jouer',\n",
       " 'planète',\n",
       " 'tomber',\n",
       " 'la',\n",
       " 'améliorer']"
      ]
     },
     "execution_count": 19,
     "metadata": {},
     "output_type": "execute_result"
    }
   ],
   "source": [
    "nexts = torch.multinomial(res[-1].exp(), 10)\n",
    "[TEXT.vocab.itos[o] for o in to_np(nexts)]"
   ]
  },
  {
   "cell_type": "code",
   "execution_count": null,
   "metadata": {},
   "outputs": [],
   "source": []
  },
  {
   "cell_type": "code",
   "execution_count": null,
   "metadata": {},
   "outputs": [],
   "source": []
  },
  {
   "cell_type": "code",
   "execution_count": null,
   "metadata": {},
   "outputs": [],
   "source": []
  },
  {
   "cell_type": "markdown",
   "metadata": {},
   "source": [
    "# Sample the model"
   ]
  },
  {
   "cell_type": "code",
   "execution_count": 116,
   "metadata": {},
   "outputs": [],
   "source": [
    "def sample_model(m, s, l=100, style='topk'):\n",
    "    \n",
    "    result = ''\n",
    "    \n",
    "    t = num_str(s)\n",
    "    m[0].bs=1\n",
    "    m.eval()\n",
    "    m.reset()\n",
    "    res,*_ = m(t)\n",
    "    result += s + ' '\n",
    "\n",
    "    for i in range(l):\n",
    "        if style == 'topk':\n",
    "            n = res[-1].topk(2)[1]\n",
    "        else:\n",
    "            n = torch.multinomial(res[-1].exp(), 2)\n",
    "        n = n[1] if n.data[0]==0 else n[0]\n",
    "        word = TEXT.vocab.itos[n.data[0]]\n",
    "        result += word + ' '\n",
    "        if word=='<eos>': break\n",
    "        res,*_ = m(n[0].unsqueeze(0).unsqueeze(0))\n",
    "\n",
    "    m[0].bs=bs\n",
    "    \n",
    "    return result"
   ]
  },
  {
   "cell_type": "code",
   "execution_count": 109,
   "metadata": {},
   "outputs": [],
   "source": [
    "learner.load_encoder('wordpress_5')\n",
    "m = learner.model.cpu()"
   ]
  },
  {
   "cell_type": "code",
   "execution_count": 117,
   "metadata": {},
   "outputs": [
    {
     "data": {
      "text/plain": [
       "'je suis obligé de me faire plaisir . je ne sais pas si ce voyage est une ville très touristique , très grande , c’ est aussi la grande ville qui m’ a fait pour se faire inviter . je suis bien content de me voir seul et de me faire inviter à dormir chez l’ habitant . je me suis aussi fait un peu de temps pour moi , et pour un autre voyage en australie . je n’ ai pas eu de problème à me faire plaisir . je ne sais pas si ce voyage est une expérience très touristique '"
      ]
     },
     "execution_count": 117,
     "metadata": {},
     "output_type": "execute_result"
    }
   ],
   "source": [
    "sample_model(m, \"je suis\")"
   ]
  },
  {
   "cell_type": "code",
   "execution_count": 119,
   "metadata": {},
   "outputs": [
    {
     "data": {
      "text/plain": [
       "'je suis telle avoir de l’ argent pour voyager , ces amis , plusieurs vins , quelques amis , equateur et articles , ou parlera de l’ ordinateur . tous me vous en donne   3 jours et rencontrés à mon blog , sans   pas besoin d’ un an et demi ,   car pourtant on s’ était bien déjà fait des frontières modernes . . sur le rêve , à moment du travail on part très bien , ils aiment \\xa0 leur planète , la qualité principale nouvelle australien viennent a uluru et sydney coober avril . stella , un '"
      ]
     },
     "execution_count": 119,
     "metadata": {},
     "output_type": "execute_result"
    }
   ],
   "source": [
    "sample_model(m, \"je suis\", style='multinomial')"
   ]
  },
  {
   "cell_type": "code",
   "execution_count": null,
   "metadata": {},
   "outputs": [],
   "source": []
  },
  {
   "cell_type": "code",
   "execution_count": null,
   "metadata": {},
   "outputs": [],
   "source": []
  },
  {
   "cell_type": "code",
   "execution_count": null,
   "metadata": {},
   "outputs": [],
   "source": []
  },
  {
   "cell_type": "code",
   "execution_count": null,
   "metadata": {},
   "outputs": [],
   "source": []
  },
  {
   "cell_type": "markdown",
   "metadata": {},
   "source": [
    "# Finetune on blogger data"
   ]
  },
  {
   "cell_type": "code",
   "execution_count": 24,
   "metadata": {},
   "outputs": [],
   "source": [
    "PATH = 'data/txt/blogger'\n",
    "#TEXT = data.Field(lower=True, tokenize=my_spacy_tok)\n",
    "md2 = LanguageModelData.from_text_files(PATH, TEXT, train='.', validation='.', test='.',\n",
    "                                       bs=bs, bptt=bptt, min_freq=10)"
   ]
  },
  {
   "cell_type": "code",
   "execution_count": 25,
   "metadata": {},
   "outputs": [
    {
     "data": {
      "text/plain": [
       "(20, 4002, 1, 95914)"
      ]
     },
     "execution_count": 25,
     "metadata": {},
     "output_type": "execute_result"
    }
   ],
   "source": [
    "len(md2.trn_dl), md2.nt, len(md2.trn_ds), len(md2.trn_ds[0].text)"
   ]
  },
  {
   "cell_type": "code",
   "execution_count": 82,
   "metadata": {},
   "outputs": [],
   "source": [
    "em_sz = 200\n",
    "nh = 500\n",
    "nl = 3\n",
    "opt_fn = partial(optim.Adam, betas=(0.7, 0.99))"
   ]
  },
  {
   "cell_type": "code",
   "execution_count": 83,
   "metadata": {},
   "outputs": [],
   "source": [
    "learner2 = md2.get_model(opt_fn, em_sz, nh, nl,\n",
    "    dropout=0.05, dropouth=0.1, dropouti=0.05, dropoute=0.02, wdrop=0.2)\n",
    "# dropout=0.4, dropouth=0.3, dropouti=0.65, dropoute=0.1, wdrop=0.5\n",
    "#                dropouti=0.05, dropout=0.05, wdrop=0.1, dropoute=0.02, dropouth=0.05)\n",
    "learner2.reg_fn = partial(seq2seq_reg, alpha=2, beta=1)\n",
    "learner2.clip=0.3"
   ]
  },
  {
   "cell_type": "code",
   "execution_count": 84,
   "metadata": {},
   "outputs": [],
   "source": [
    "learner2.load_encoder('wordpress_5')"
   ]
  },
  {
   "cell_type": "code",
   "execution_count": 29,
   "metadata": {},
   "outputs": [
    {
     "data": {
      "application/vnd.jupyter.widget-view+json": {
       "model_id": "4fa7a2524bf14f449505a7f7144c1610",
       "version_major": 2,
       "version_minor": 0
      },
      "text/plain": [
       "HBox(children=(IntProgress(value=0, description='Epoch', max=1), HTML(value='')))"
      ]
     },
     "metadata": {},
     "output_type": "display_data"
    },
    {
     "name": "stdout",
     "output_type": "stream",
     "text": [
      "epoch      trn_loss   val_loss   \n",
      "    0      4.07943    3.612095  \n",
      "\n"
     ]
    }
   ],
   "source": [
    "learner2.fit(3e-3, 1, wds=1e-6)\n",
    "learner2.save_encoder('blogger_1')"
   ]
  },
  {
   "cell_type": "code",
   "execution_count": 30,
   "metadata": {},
   "outputs": [
    {
     "data": {
      "application/vnd.jupyter.widget-view+json": {
       "model_id": "b3b4f78145b6410abf2dbf5a0f4abd7a",
       "version_major": 2,
       "version_minor": 0
      },
      "text/plain": [
       "HBox(children=(IntProgress(value=0, description='Epoch', max=15), HTML(value='')))"
      ]
     },
     "metadata": {},
     "output_type": "display_data"
    },
    {
     "name": "stdout",
     "output_type": "stream",
     "text": [
      "epoch      trn_loss   val_loss   \n",
      "    0      3.729076   3.4321    \n",
      "    1      3.649061   3.236375  \n",
      "    2      3.53968    3.166946  \n",
      "    3      3.483248   3.033893  \n",
      "    4      3.402295   2.859933  \n",
      "    5      3.293501   2.742957  \n",
      "    6      3.212594   2.733846  \n",
      "    7      3.17222    2.634837  \n",
      "    8      3.112819   2.48527   \n",
      "    9      3.032762   2.337774  \n",
      "    10     2.938747   2.240985  \n",
      "    11     2.830832   2.172124  \n",
      "    12     2.736191   2.025528  \n",
      "    13     2.659064   1.991474  \n",
      "    14     2.600195   1.999561  \n",
      "\n"
     ]
    }
   ],
   "source": [
    "learner2.fit(3e-3, 4, wds=1e-6, cycle_len=1, cycle_mult=2)\n",
    "learner2.save_encoder('blogger_2')"
   ]
  },
  {
   "cell_type": "code",
   "execution_count": 31,
   "metadata": {},
   "outputs": [
    {
     "data": {
      "application/vnd.jupyter.widget-view+json": {
       "model_id": "15245262bb78419d8334a115a910504d",
       "version_major": 2,
       "version_minor": 0
      },
      "text/plain": [
       "HBox(children=(IntProgress(value=0, description='Epoch', max=10), HTML(value='')))"
      ]
     },
     "metadata": {},
     "output_type": "display_data"
    },
    {
     "name": "stdout",
     "output_type": "stream",
     "text": [
      "epoch      trn_loss   val_loss   \n",
      "    0      2.508398   2.028785  \n",
      "    1      2.506911   1.910381  \n",
      "    2      2.477282   1.858803  \n",
      "    3      2.442942   1.696492  \n",
      "    4      2.39218    1.615291  \n",
      "    5      2.311126   1.52568   \n",
      "    6      2.239762   1.448574  \n",
      "    7      2.192392   1.445718  \n",
      "    8      2.15074    1.409442  \n",
      "    9      2.128195   1.430044  \n",
      "\n"
     ]
    }
   ],
   "source": [
    "learner2.fit(3e-3, 1, wds=1e-6, cycle_len=10)\n",
    "learner2.save_encoder('blogger_3')"
   ]
  },
  {
   "cell_type": "code",
   "execution_count": 32,
   "metadata": {},
   "outputs": [
    {
     "data": {
      "application/vnd.jupyter.widget-view+json": {
       "model_id": "d8d89465eb5f4e6f9c4cb5bf3cf0dac3",
       "version_major": 2,
       "version_minor": 0
      },
      "text/plain": [
       "HBox(children=(IntProgress(value=0, description='Epoch', max=15), HTML(value='')))"
      ]
     },
     "metadata": {},
     "output_type": "display_data"
    },
    {
     "name": "stdout",
     "output_type": "stream",
     "text": [
      "epoch      trn_loss   val_loss   \n",
      "    0      2.045861   1.391264  \n",
      "    1      2.07245    1.361346  \n",
      "    2      2.109661   1.374343  \n",
      "    3      2.065975   1.356039  \n",
      "    4      2.026473   1.310358  \n",
      "    5      2.025779   1.267039  \n",
      "    6      1.988473   1.310442  \n",
      "    7      2.001189   1.421678  \n",
      "    8      1.987376   1.272208  \n",
      "    9      1.94994    1.184513  \n",
      "    10     1.92364    1.159139  \n",
      "    11     1.913576   1.145634  \n",
      "    12     1.931912   1.139126  \n",
      "    13     1.928751   1.177401  \n",
      "    14     1.901622   1.257719  \n",
      "\n"
     ]
    }
   ],
   "source": [
    "learner2.fit(1e-3, 4, wds=1e-6, cycle_len=1, cycle_mult=2)\n",
    "learner2.save_encoder('blogger_4')"
   ]
  },
  {
   "cell_type": "code",
   "execution_count": 33,
   "metadata": {},
   "outputs": [
    {
     "data": {
      "application/vnd.jupyter.widget-view+json": {
       "model_id": "d6f2621038154b99873a706a8790c7f2",
       "version_major": 2,
       "version_minor": 0
      },
      "text/plain": [
       "HBox(children=(IntProgress(value=0, description='Epoch', max=10), HTML(value='')))"
      ]
     },
     "metadata": {},
     "output_type": "display_data"
    },
    {
     "name": "stdout",
     "output_type": "stream",
     "text": [
      "epoch      trn_loss   val_loss   \n",
      "    0      1.806324   1.147617  \n",
      "    1      1.825615   1.086717  \n",
      "    2      1.792029   1.049193  \n",
      "    3      1.825028   1.042164  \n",
      "    4      1.783125   1.027698  \n",
      "    5      1.786378   0.990423  \n",
      "    6      1.781774   1.047837  \n",
      "    7      1.764112   1.0085    \n",
      "    8      1.72583    1.004652  \n",
      "    9      1.732903   0.980324  \n",
      "\n"
     ]
    }
   ],
   "source": [
    "learner2.fit(1e-3, 1, wds=1e-6, cycle_len=10)\n",
    "learner2.save_encoder('blogger_5')"
   ]
  },
  {
   "cell_type": "code",
   "execution_count": 57,
   "metadata": {},
   "outputs": [
    {
     "data": {
      "application/vnd.jupyter.widget-view+json": {
       "model_id": "3fe36e7ebb8141cea1966aacef452732",
       "version_major": 2,
       "version_minor": 0
      },
      "text/plain": [
       "HBox(children=(IntProgress(value=0, description='Epoch', max=63), HTML(value='')))"
      ]
     },
     "metadata": {},
     "output_type": "display_data"
    },
    {
     "name": "stdout",
     "output_type": "stream",
     "text": [
      "epoch      trn_loss   val_loss   \n",
      "    0      1.847859   1.060709  \n",
      "    1      1.813359   1.026883  \n",
      "    2      1.778089   0.948474  \n",
      "    3      1.824945   1.080708  \n",
      "    4      1.800656   0.993749  \n",
      "    5      1.737481   0.902956  \n",
      "    6      1.709092   0.892642  \n",
      "    7      1.695567   0.864817  \n",
      "    8      1.700057   0.84268   \n",
      "    9      1.672589   0.770739  \n",
      "    10     1.623281   0.716308  \n",
      "    11     1.584262   0.687014  \n",
      "    12     1.523147   0.624581  \n",
      "    13     1.483324   0.658361  \n",
      "    14     1.474085   0.621477  \n",
      "    15     1.520616   0.714385  \n",
      "    16     1.520002   0.642848  \n",
      "    17     1.515244   0.60481   \n",
      "    18     1.472622   0.54816   \n",
      "    19     1.449795   0.688151  \n",
      "    20     1.420494   0.504746  \n",
      "    21     1.417902   0.512269  \n",
      "    22     1.363959   0.54308   \n",
      "    23     1.324987   0.447386  \n",
      "    24     1.280399   0.387428  \n",
      "    25     1.230288   0.366208  \n",
      "    26     1.175008   0.361138  \n",
      "    27     1.143298   0.340434  \n",
      "    28     1.104044   0.444046  \n",
      "    29     1.090434   0.36496   \n",
      "    30     1.060853   0.355106  \n",
      "    31     1.118066   0.386127  \n",
      "    32     1.140418   0.368322  \n",
      "    33     1.182965   0.372192  \n",
      "    34     1.199301   0.393481  \n",
      "    35     1.161815   0.313019  \n",
      "    36     1.130646   0.291827  \n",
      "    37     1.112785   0.286583  \n",
      "    38     1.126401   0.312675  \n",
      "    39     1.07705    0.349924  \n",
      "    40     1.084226   0.332778  \n",
      "    41     1.042186   0.299573  \n",
      "    42     1.004829   0.231794  \n",
      "    43     1.011692   0.213601  \n",
      "    44     1.004994   0.173315  \n",
      "    45     0.968305   0.207611  \n",
      "    46     0.967713   0.285922  \n",
      "    47     0.93275    0.210089  \n",
      "    48     0.868094   0.13737   \n",
      "    49     0.851825   0.216484  \n",
      "    50     0.830233   0.125968  \n",
      "    51     0.810974   0.199133  \n",
      "    52     0.806305   0.112414  \n",
      "    53     0.81732    0.236855  \n",
      "    54     0.825024   0.137007  \n",
      "    55     0.794917   0.137206  \n",
      "    56     0.779853   0.150763  \n",
      "    57     0.770704   0.133397  \n",
      "    58     0.760285   0.10101   \n",
      "    59     0.72433    0.114146  \n",
      "    60     0.712803   0.099623  \n",
      "    61     0.705845   0.102617  \n",
      "    62     0.732909   0.129345  \n",
      "\n"
     ]
    }
   ],
   "source": [
    "learner2.fit(3e-3, 6, wds=1e-6, cycle_len=1, cycle_mult=2)\n",
    "learner2.save_encoder('blogger_6')"
   ]
  },
  {
   "cell_type": "code",
   "execution_count": null,
   "metadata": {},
   "outputs": [],
   "source": []
  },
  {
   "cell_type": "code",
   "execution_count": null,
   "metadata": {},
   "outputs": [],
   "source": []
  },
  {
   "cell_type": "code",
   "execution_count": null,
   "metadata": {},
   "outputs": [],
   "source": []
  },
  {
   "cell_type": "code",
   "execution_count": null,
   "metadata": {},
   "outputs": [],
   "source": []
  },
  {
   "cell_type": "code",
   "execution_count": null,
   "metadata": {},
   "outputs": [],
   "source": []
  },
  {
   "cell_type": "code",
   "execution_count": null,
   "metadata": {},
   "outputs": [],
   "source": []
  },
  {
   "cell_type": "markdown",
   "metadata": {},
   "source": [
    "# Sample predictions"
   ]
  },
  {
   "cell_type": "code",
   "execution_count": 120,
   "metadata": {},
   "outputs": [],
   "source": [
    "learner2.load_encoder('blogger_6')"
   ]
  },
  {
   "cell_type": "code",
   "execution_count": 121,
   "metadata": {},
   "outputs": [],
   "source": [
    "m2 = learner2.model.cpu()"
   ]
  },
  {
   "cell_type": "code",
   "execution_count": 124,
   "metadata": {},
   "outputs": [
    {
     "data": {
      "text/plain": [
       "'je suis fatigué du stop qui ne marche pas , et je dois marcher pour la nuit . de toute façon , je vais en profiter pour faire un petit tour de terrain de foot très haut , mais vu que le paysage est en train de dormir dans le désert . je sais bien que le terrain est à peine pour sortir de la paz , mais je suis dans le vent . la douleur se termine plutôt . je suis un peu trop faible pour que ça soit normal , et je me fais embarquer en chemin par un groupe '"
      ]
     },
     "execution_count": 124,
     "metadata": {},
     "output_type": "execute_result"
    }
   ],
   "source": [
    "sample_model(m2, \"je suis\")"
   ]
  },
  {
   "cell_type": "code",
   "execution_count": null,
   "metadata": {},
   "outputs": [],
   "source": []
  },
  {
   "cell_type": "code",
   "execution_count": 129,
   "metadata": {},
   "outputs": [],
   "source": [
    "with open('data/sampled.txt', 'w') as f:\n",
    "    f.write(sample_model(m2, \"je suis\", 100000))"
   ]
  },
  {
   "cell_type": "code",
   "execution_count": null,
   "metadata": {},
   "outputs": [],
   "source": []
  },
  {
   "cell_type": "code",
   "execution_count": null,
   "metadata": {},
   "outputs": [],
   "source": []
  },
  {
   "cell_type": "code",
   "execution_count": null,
   "metadata": {},
   "outputs": [],
   "source": []
  },
  {
   "cell_type": "code",
   "execution_count": null,
   "metadata": {},
   "outputs": [],
   "source": []
  },
  {
   "cell_type": "code",
   "execution_count": null,
   "metadata": {},
   "outputs": [],
   "source": []
  },
  {
   "cell_type": "code",
   "execution_count": null,
   "metadata": {},
   "outputs": [],
   "source": []
  },
  {
   "cell_type": "code",
   "execution_count": null,
   "metadata": {},
   "outputs": [],
   "source": []
  },
  {
   "cell_type": "markdown",
   "metadata": {},
   "source": [
    "# Fit language model on Blogger"
   ]
  },
  {
   "cell_type": "code",
   "execution_count": 61,
   "metadata": {},
   "outputs": [],
   "source": [
    "bs, bptt = 64, 70"
   ]
  },
  {
   "cell_type": "code",
   "execution_count": 62,
   "metadata": {},
   "outputs": [],
   "source": [
    "#python -m spacy download fr\n",
    "my_tok = spacy.load('fr')\n",
    "\n",
    "def my_spacy_tok(x):\n",
    "    return [tok.text for tok in my_tok.tokenizer(x)]"
   ]
  },
  {
   "cell_type": "code",
   "execution_count": 63,
   "metadata": {},
   "outputs": [],
   "source": [
    "PATH = 'data/txt/blogger'\n",
    "TEXT = data.Field(lower=True, tokenize=my_spacy_tok)\n",
    "md3 = LanguageModelData.from_text_files(PATH, TEXT, train='.', validation='.', test='.',\n",
    "                                       bs=bs, bptt=bptt, min_freq=5)"
   ]
  },
  {
   "cell_type": "code",
   "execution_count": 64,
   "metadata": {},
   "outputs": [
    {
     "data": {
      "text/plain": [
       "(20, 1764, 1, 95914)"
      ]
     },
     "execution_count": 64,
     "metadata": {},
     "output_type": "execute_result"
    }
   ],
   "source": [
    "len(md3.trn_dl), md3.nt, len(md3.trn_ds), len(md3.trn_ds[0].text)"
   ]
  },
  {
   "cell_type": "code",
   "execution_count": 65,
   "metadata": {},
   "outputs": [],
   "source": [
    "em_sz = 200\n",
    "nh = 500\n",
    "nl = 3\n",
    "opt_fn = partial(optim.Adam, betas=(0.7, 0.99))"
   ]
  },
  {
   "cell_type": "code",
   "execution_count": 66,
   "metadata": {},
   "outputs": [],
   "source": [
    "learner3 = md3.get_model(opt_fn, em_sz, nh, nl,\n",
    "    dropout=0.05, dropouth=0.1, dropouti=0.05, dropoute=0.02, wdrop=0.2)\n",
    "# dropout=0.4, dropouth=0.3, dropouti=0.65, dropoute=0.1, wdrop=0.5\n",
    "#                dropouti=0.05, dropout=0.05, wdrop=0.1, dropoute=0.02, dropouth=0.05)\n",
    "learner3.reg_fn = partial(seq2seq_reg, alpha=2, beta=1)\n",
    "learner3.clip=0.3"
   ]
  },
  {
   "cell_type": "code",
   "execution_count": 67,
   "metadata": {},
   "outputs": [],
   "source": [
    "warnings.filterwarnings('ignore',category=UserWarning)"
   ]
  },
  {
   "cell_type": "code",
   "execution_count": 37,
   "metadata": {},
   "outputs": [
    {
     "data": {
      "application/vnd.jupyter.widget-view+json": {
       "model_id": "541f6271d6f844bd881c98fc388331c8",
       "version_major": 2,
       "version_minor": 0
      },
      "text/plain": [
       "HBox(children=(IntProgress(value=0, description='Epoch', max=1), HTML(value='')))"
      ]
     },
     "metadata": {},
     "output_type": "display_data"
    },
    {
     "name": "stdout",
     "output_type": "stream",
     "text": [
      "epoch      trn_loss   val_loss   \n",
      "    0      5.716376   5.336585  \n"
     ]
    }
   ],
   "source": [
    "learner3.fit(3e-3, 1, wds=1e-6)\n",
    "learner3.save_encoder('blogger2_1')"
   ]
  },
  {
   "cell_type": "code",
   "execution_count": 38,
   "metadata": {},
   "outputs": [
    {
     "data": {
      "application/vnd.jupyter.widget-view+json": {
       "model_id": "cfdc532971aa4962b4e92a1c574949f9",
       "version_major": 2,
       "version_minor": 0
      },
      "text/plain": [
       "HBox(children=(IntProgress(value=0, description='Epoch', max=15), HTML(value='')))"
      ]
     },
     "metadata": {},
     "output_type": "display_data"
    },
    {
     "name": "stdout",
     "output_type": "stream",
     "text": [
      "epoch      trn_loss   val_loss   \n",
      "    0      5.324759   5.272443  \n",
      "    1      5.258127   5.057779  \n",
      "    2      5.13788    4.964386  \n",
      "    3      5.045314   4.746413  \n",
      "    4      4.911257   4.603815  \n",
      "    5      4.788528   4.515129  \n",
      "    6      4.701424   4.500392  \n",
      "    7      4.651704   4.432693  \n",
      "    8      4.576051   4.340849  \n",
      "    9      4.49755    4.248639  \n",
      "    10     4.417539   4.172508  \n",
      "    11     4.343906   4.123144  \n",
      "    12     4.278645   4.081852  \n",
      "    13     4.227803   4.066607  \n",
      "    14     4.18771    4.062248  \n"
     ]
    }
   ],
   "source": [
    "learner3.fit(3e-3, 4, wds=1e-6, cycle_len=1, cycle_mult=2)\n",
    "learner3.save_encoder('blogger2_2')"
   ]
  },
  {
   "cell_type": "code",
   "execution_count": 39,
   "metadata": {},
   "outputs": [
    {
     "data": {
      "application/vnd.jupyter.widget-view+json": {
       "model_id": "fd04783d44ff4c1c8af6ca90a912f247",
       "version_major": 2,
       "version_minor": 0
      },
      "text/plain": [
       "HBox(children=(IntProgress(value=0, description='Epoch', max=10), HTML(value='')))"
      ]
     },
     "metadata": {},
     "output_type": "display_data"
    },
    {
     "name": "stdout",
     "output_type": "stream",
     "text": [
      "epoch      trn_loss   val_loss   \n",
      "    0      4.135802   4.05787   \n",
      "    1      4.116346   3.977947  \n",
      "    2      4.078284   3.91676   \n",
      "    3      4.020767   3.828484  \n",
      "    4      3.968137   3.752808  \n",
      "    5      3.914007   3.696593  \n",
      "    6      3.86487    3.654347  \n",
      "    7      3.81588    3.624824  \n",
      "    8      3.775475   3.604919  \n",
      "    9      3.751243   3.605023  \n"
     ]
    }
   ],
   "source": [
    "learner3.fit(3e-3, 1, wds=1e-6, cycle_len=10)\n",
    "learner3.save_encoder('blogger2_3')"
   ]
  },
  {
   "cell_type": "code",
   "execution_count": 40,
   "metadata": {},
   "outputs": [
    {
     "data": {
      "application/vnd.jupyter.widget-view+json": {
       "model_id": "058ce3a89dcb48658cefed05b5d62ff6",
       "version_major": 2,
       "version_minor": 0
      },
      "text/plain": [
       "HBox(children=(IntProgress(value=0, description='Epoch', max=15), HTML(value='')))"
      ]
     },
     "metadata": {},
     "output_type": "display_data"
    },
    {
     "name": "stdout",
     "output_type": "stream",
     "text": [
      "epoch      trn_loss   val_loss   \n",
      "    0      3.725288   3.603257  \n",
      "    1      3.70469    3.573659  \n",
      "    2      3.693178   3.551518  \n",
      "    3      3.686415   3.540763  \n",
      "    4      3.668134   3.502769  \n",
      "    5      3.651766   3.470252  \n",
      "    6      3.62752    3.464709  \n",
      "    7      3.61584    3.443684  \n",
      "    8      3.599719   3.424744  \n",
      "    9      3.583802   3.40861   \n",
      "    10     3.55352    3.331029  \n",
      "    11     3.536273   3.31895   \n",
      "    12     3.504065   3.298577  \n",
      "    13     3.488571   3.282547  \n",
      "    14     3.471088   3.29126   \n"
     ]
    }
   ],
   "source": [
    "learner3.fit(1e-3, 4, wds=1e-6, cycle_len=1, cycle_mult=2)\n",
    "learner3.save_encoder('blogger2_4')"
   ]
  },
  {
   "cell_type": "code",
   "execution_count": 41,
   "metadata": {},
   "outputs": [
    {
     "data": {
      "application/vnd.jupyter.widget-view+json": {
       "model_id": "8d015988745d47b482f7f9e5b37af7eb",
       "version_major": 2,
       "version_minor": 0
      },
      "text/plain": [
       "HBox(children=(IntProgress(value=0, description='Epoch', max=10), HTML(value='')))"
      ]
     },
     "metadata": {},
     "output_type": "display_data"
    },
    {
     "name": "stdout",
     "output_type": "stream",
     "text": [
      "epoch      trn_loss   val_loss   \n",
      "    0      3.439      3.298283  \n",
      "    1      3.45457    3.250465  \n",
      "    2      3.433826   3.227056  \n",
      "    3      3.409497   3.18042   \n",
      "    4      3.38546    3.142725  \n",
      "    5      3.356613   3.120348  \n",
      "    6      3.336234   3.090318  \n",
      "    7      3.339717   3.082014  \n",
      "    8      3.327456   3.075781  \n",
      "    9      3.30387    3.074916  \n"
     ]
    }
   ],
   "source": [
    "learner3.fit(1e-3, 1, wds=1e-6, cycle_len=10)\n",
    "learner3.save_encoder('blogger2_5')"
   ]
  },
  {
   "cell_type": "code",
   "execution_count": 42,
   "metadata": {},
   "outputs": [
    {
     "data": {
      "application/vnd.jupyter.widget-view+json": {
       "model_id": "d13586f2085b4390ad3542c47b91b8b5",
       "version_major": 2,
       "version_minor": 0
      },
      "text/plain": [
       "HBox(children=(IntProgress(value=0, description='Epoch', max=63), HTML(value='')))"
      ]
     },
     "metadata": {},
     "output_type": "display_data"
    },
    {
     "name": "stdout",
     "output_type": "stream",
     "text": [
      "epoch      trn_loss   val_loss   \n",
      "    0      3.401124   3.115943  \n",
      "    1      3.394359   3.104966  \n",
      "    2      3.320925   2.998596  \n",
      "    3      3.324621   3.014998  \n",
      "    4      3.274925   2.889136  \n",
      "    5      3.203866   2.791183  \n",
      "    6      3.143389   2.743696  \n",
      "    7      3.133088   2.808684  \n",
      "    8      3.115346   2.750989  \n",
      "    9      3.078342   2.630241  \n",
      "    10     3.007581   2.504309  \n",
      "    11     2.938244   2.397932  \n",
      "    12     2.85738    2.403038  \n",
      "    13     2.787358   2.290239  \n",
      "    14     2.738232   2.267984  \n",
      "    15     2.755664   2.416386  \n",
      "    16     2.761862   2.296825  \n",
      "    17     2.726909   2.193772  \n",
      "    18     2.686065   2.133616  \n",
      "    19     2.651273   2.069843  \n",
      "    20     2.582889   1.935177  \n",
      "    21     2.515206   1.91445   \n",
      "    22     2.453686   1.846575  \n",
      "    23     2.371907   1.750518  \n",
      "    24     2.321926   1.648522  \n",
      "    25     2.262994   1.607323  \n",
      "    26     2.207913   1.589909  \n",
      "    27     2.163113   1.55609   \n",
      "    28     2.124327   1.506065  \n",
      "    29     2.108099   1.528991  \n",
      "    30     2.107054   1.550622  \n",
      "    31     2.146199   1.649849  \n",
      "    32     2.165263   1.642359  \n",
      "    33     2.159041   1.546423  \n",
      "    34     2.138652   1.475395  \n",
      "    35     2.102081   1.383981  \n",
      "    36     2.104091   1.405946  \n",
      "    37     2.083091   1.316557  \n",
      "    38     2.028629   1.25623   \n",
      "    39     1.955992   1.251226  \n",
      "    40     1.907446   1.221459  \n",
      "    41     1.848582   1.205468  \n",
      "    42     1.776167   1.029019  \n",
      "    43     1.755382   1.004778  \n",
      "    44     1.716459   0.942332  \n",
      "    45     1.658456   0.918789  \n",
      "    46     1.592624   0.837408  \n",
      "    47     1.592088   0.835039  \n",
      "    48     1.581259   0.850419  \n",
      "    49     1.526675   0.836095  \n",
      "    50     1.488111   0.727005  \n",
      "    51     1.469429   0.80003   \n",
      "    52     1.413041   0.813008  \n",
      "    53     1.416851   0.766598  \n",
      "    54     1.398651   0.683459  \n",
      "    55     1.381909   0.654411  \n",
      "    56     1.359989   0.796652  \n",
      "    57     1.322489   0.617478  \n",
      "    58     1.270659   0.740834  \n",
      "    59     1.287833   0.608295  \n",
      "    60     1.273995   0.794896  \n",
      "    61     1.329479   0.613993  \n",
      "    62     1.328582   0.675654  \n"
     ]
    }
   ],
   "source": [
    "learner3.fit(3e-3, 6, wds=1e-6, cycle_len=1, cycle_mult=2)\n",
    "learner3.save_encoder('blogger2_6')"
   ]
  },
  {
   "cell_type": "code",
   "execution_count": 68,
   "metadata": {},
   "outputs": [],
   "source": [
    "learner3.fit(3e-3, 4, wds=1e-6, cycle_len=1, cycle_mult=2)\n",
    "learner3.load_encoder('blogger2_7')"
   ]
  },
  {
   "cell_type": "code",
   "execution_count": 69,
   "metadata": {},
   "outputs": [
    {
     "data": {
      "application/vnd.jupyter.widget-view+json": {
       "model_id": "e6e33c802ac7461d91306a1b491cd164",
       "version_major": 2,
       "version_minor": 0
      },
      "text/plain": [
       "HBox(children=(IntProgress(value=0, description='Epoch', max=63), HTML(value='')))"
      ]
     },
     "metadata": {},
     "output_type": "display_data"
    },
    {
     "name": "stdout",
     "output_type": "stream",
     "text": [
      "epoch      trn_loss   val_loss   \n",
      "    0      1.170379   0.479152  \n",
      "    1      1.292388   0.474547  \n",
      "    2      1.261556   0.434445  \n",
      "    3      1.257896   0.46974   \n",
      "    4      1.261782   0.421744  \n",
      "    5      1.233715   0.369263  \n",
      "    6      1.162712   0.376096  \n",
      "    7      1.163608   0.448127  \n",
      "    8      1.192446   0.397199  \n",
      "    9      1.178609   0.377584  \n",
      "    10     1.134461   0.370582  \n",
      "    11     1.085404   0.308952  \n",
      "    12     1.031627   0.279289  \n",
      "    13     1.005367   0.273756  \n",
      "    14     1.029904   0.339459  \n",
      "    15     1.03545    0.349991  \n",
      "    16     1.032645   0.364726  \n",
      "    17     1.100678   0.353906  \n",
      "    18     1.053453   0.278231  \n",
      "    19     1.073659   0.312367  \n",
      "    20     1.033287   0.33833   \n",
      "    21     0.99316    0.224752  \n",
      "    22     0.94959    0.20221   \n",
      "    23     0.945983   0.21263   \n",
      "    24     0.935234   0.196404  \n",
      "    25     0.885704   0.168797  \n",
      "    26     0.87833    0.181851  \n",
      "    27     0.876303   0.152599  \n",
      "    28     0.818133   0.156572  \n",
      "    29     0.800179   0.146392  \n",
      "    30     0.791545   0.188598  \n",
      "    31     0.860241   0.204511  \n",
      "    32     0.884469   0.223763  \n",
      "    33     0.889346   0.197889  \n",
      "    34     0.961542   0.219401  \n",
      "    35     0.941713   0.186786  \n",
      "    36     0.932483   0.158258  \n",
      "    37     0.893994   0.153629  \n",
      "    38     0.858772   0.200046  \n",
      "    39     0.90654    0.17719   \n",
      "    40     0.887737   0.170311  \n",
      "    41     0.854298   0.115738  \n",
      "    42     0.875024   0.212225  \n",
      "    43     0.812785   0.121867  \n",
      "    44     0.7835     0.117587  \n",
      "    45     0.756689   0.084053  \n",
      "    46     0.752103   0.07814   \n",
      "    47     0.737975   0.093503  \n",
      "    48     0.703159   0.166481  \n",
      "    49     0.702113   0.081193  \n",
      "    50     0.695632   0.064198  \n",
      "    51     0.67856    0.106473  \n",
      "    52     0.645651   0.055934  \n",
      "    53     0.673616   0.0619    \n",
      "    54     0.657226   0.065097  \n",
      "    55     0.630353   0.055184  \n",
      "    56     0.645751   0.072168  \n",
      "    57     0.606018   0.059264  \n",
      "    58     0.587334   0.0552    \n",
      "    59     0.577186   0.083387  \n",
      "    60     0.560976   0.054848  \n",
      "    61     0.589136   0.052994  \n",
      "    62     0.57334    0.050976  \n"
     ]
    }
   ],
   "source": [
    "learner3.fit(3e-3, 6, wds=1e-6, cycle_len=1, cycle_mult=2)\n",
    "learner3.save_encoder('blogger2_8')"
   ]
  },
  {
   "cell_type": "code",
   "execution_count": null,
   "metadata": {},
   "outputs": [],
   "source": []
  },
  {
   "cell_type": "markdown",
   "metadata": {},
   "source": [
    "# Sample predictions"
   ]
  },
  {
   "cell_type": "code",
   "execution_count": 70,
   "metadata": {},
   "outputs": [],
   "source": [
    "def proc_str(s): return TEXT.preprocess(TEXT.tokenize(s))\n",
    "def num_str(s): return TEXT.numericalize([proc_str(s)])"
   ]
  },
  {
   "cell_type": "code",
   "execution_count": 71,
   "metadata": {},
   "outputs": [],
   "source": [
    "def sample_model(m, s, l=100, style='topk'):\n",
    "    \n",
    "    result = ''\n",
    "    \n",
    "    t = num_str(s)\n",
    "    m[0].bs=1\n",
    "    m.eval()\n",
    "    m.reset()\n",
    "    res,*_ = m(t)\n",
    "    result += s + ' '\n",
    "\n",
    "    for i in range(l):\n",
    "        if style == 'topk':\n",
    "            n = res[-1].topk(2)[1]\n",
    "        else:\n",
    "            n = torch.multinomial(res[-1].exp(), 2)\n",
    "        n = n[1] if n.data[0]==0 else n[0]\n",
    "        word = TEXT.vocab.itos[n.data[0]]\n",
    "        result += word + ' '\n",
    "        if word=='<eos>': break\n",
    "        res,*_ = m(n[0].unsqueeze(0).unsqueeze(0))\n",
    "\n",
    "    m[0].bs=bs\n",
    "    \n",
    "    return result"
   ]
  },
  {
   "cell_type": "code",
   "execution_count": 72,
   "metadata": {},
   "outputs": [],
   "source": [
    "learner3.load_encoder('blogger2_8')"
   ]
  },
  {
   "cell_type": "code",
   "execution_count": 73,
   "metadata": {},
   "outputs": [],
   "source": [
    "m3 = learner3.model.cpu()"
   ]
  },
  {
   "cell_type": "code",
   "execution_count": 75,
   "metadata": {},
   "outputs": [
    {
     "name": "stdout",
     "output_type": "stream",
     "text": [
      "je suis fatigué et me dit que c' est 30 bolivianos ( en fait ) . la route ( ma batterie ) , j' arrive à la nuit . \" je ne sais pas trop comment ça va . \" je vais être de tente . - non . tu n' y pas pas . \" je vois une petite boucle de 10 jours en stop . j' ai aussi une tente . cette nuit , j' ai dormi dans un village dans la montagne : \" non , tu ne peux pas faire de stop ici . \" ça me semble totalement bien . le lendemain , après avoir fait mes faire a la carte , je me fais la réflexion qu' il y a quand même des coins sympas pour camper . et puis , de fil en bus , je me suis fait embarquer par un conducteur qui s' appelle the me la part , et je fais du stop dans la route et j' aimerais aller en direction de mendoza . cette fois - ci , la remorque est pleine à plus , et avec nori on fait entre 2 km . cependant , j' ai une flemme de retour . je vais à l' une d' elle au hasard et trouve une femme . \" bonjour , je cherche le camping . - oui , il est là . - d' accord , où se trouve la carte en dessous de \" ? \" , je demande , ne pas à l' entrée de l' autoroute , avec un village qui est à 3 jours de marche . c' est bon , rien : pour l' autoroute , et l' un des trucs les plus est plus pauvre . je n' ai aucune idée de la façon \n"
     ]
    }
   ],
   "source": [
    "print(sample_model(m3, \"je suis\", l=300))"
   ]
  },
  {
   "cell_type": "code",
   "execution_count": null,
   "metadata": {},
   "outputs": [],
   "source": []
  }
 ],
 "metadata": {
  "kernelspec": {
   "display_name": "Python 3",
   "language": "python",
   "name": "python3"
  },
  "language_info": {
   "codemirror_mode": {
    "name": "ipython",
    "version": 3
   },
   "file_extension": ".py",
   "mimetype": "text/x-python",
   "name": "python",
   "nbconvert_exporter": "python",
   "pygments_lexer": "ipython3",
   "version": "3.7.0"
  }
 },
 "nbformat": 4,
 "nbformat_minor": 2
}
